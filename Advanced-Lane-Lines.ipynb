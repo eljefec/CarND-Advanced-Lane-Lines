{
 "cells": [
  {
   "cell_type": "markdown",
   "metadata": {},
   "source": [
    "## Compute the camera calibration matrix and distortion coefficients"
   ]
  },
  {
   "cell_type": "code",
   "execution_count": null,
   "metadata": {
    "collapsed": false
   },
   "outputs": [],
   "source": [
    "# Source: https://github.com/udacity/CarND-Camera-Calibration/blob/master/camera_calibration.ipynb\n",
    "\n",
    "import numpy as np\n",
    "import cv2\n",
    "import glob\n",
    "import matplotlib.pyplot as plt\n",
    "%matplotlib qt\n",
    "\n",
    "display_chessboard_corners = True\n",
    "save_chessboard_corners = False\n",
    "\n",
    "# Prepare object points, like (0,0,0), (1,0,0), (2,0,0) ....,(8,5,0)\n",
    "objp = np.zeros((6*9,3), np.float32)\n",
    "objp[:,:2] = np.mgrid[0:9, 0:6].T.reshape(-1,2)\n",
    "\n",
    "# Arrays to store object points and image points from all the images.\n",
    "objpoints = [] # 3d points in real world space\n",
    "imgpoints = [] # 2d points in image plane.\n",
    "\n",
    "# Make a list of calibration images\n",
    "images = glob.glob('camera_cal/calibration*.jpg')\n",
    "\n",
    "# Step through the list and search for chessboard corners\n",
    "for idx, fname in enumerate(images):\n",
    "    img = cv2.imread(fname)\n",
    "    gray = cv2.cvtColor(img, cv2.COLOR_BGR2GRAY)\n",
    "\n",
    "    # Find the chessboard corners\n",
    "    ret, corners = cv2.findChessboardCorners(gray, (9,6), None)\n",
    "\n",
    "    # If found, add object points, image points\n",
    "    if ret == True:\n",
    "        objpoints.append(objp)\n",
    "        imgpoints.append(corners)\n",
    "\n",
    "        # Draw and display the corners\n",
    "        if display_chessboard_corners or save_chessboard_corners:\n",
    "            cv2.drawChessboardCorners(img, (9,6), corners, ret)\n",
    "        \n",
    "        if display_chessboard_corners:\n",
    "            cv2.imshow('img', img)\n",
    "            cv2.waitKey(100)\n",
    "            \n",
    "        if save_chessboard_corners:\n",
    "            write_name = 'output_images/corners_found' + str(idx) + '.jpg'\n",
    "            cv2.imwrite(write_name, img)\n",
    "\n",
    "cv2.destroyAllWindows()\n",
    "\n",
    "if objpoints and imgpoints:\n",
    "    print('Success: Found object points and image points.')\n",
    "else:\n",
    "    assert False, 'Failure: Did not find object points and image points.'"
   ]
  },
  {
   "cell_type": "code",
   "execution_count": null,
   "metadata": {
    "collapsed": false
   },
   "outputs": [],
   "source": [
    "# Source: https://github.com/udacity/CarND-Camera-Calibration/blob/master/camera_calibration.ipynb\n",
    "\n",
    "import pickle\n",
    "%matplotlib inline\n",
    "\n",
    "# Test undistortion on an image\n",
    "img = cv2.imread('camera_cal/calibration1.jpg')\n",
    "img_size = (img.shape[1], img.shape[0])\n",
    "\n",
    "# Do camera calibration given object points and image points\n",
    "ret, mtx, dist, rvecs, tvecs = cv2.calibrateCamera(objpoints, imgpoints, img_size, None, None)\n",
    "\n",
    "dst = cv2.undistort(img, mtx, dist, None, mtx)\n",
    "cv2.imwrite('output_images/test_undistort.jpg', dst)\n",
    "\n",
    "# Save the camera calibration result for later use (we won't worry about rvecs / tvecs)\n",
    "dist_pickle = {}\n",
    "dist_pickle[\"mtx\"] = mtx\n",
    "dist_pickle[\"dist\"] = dist\n",
    "pickle.dump(dist_pickle, open(\"camera_cal/wide_dist_pickle.p\", \"wb\"))\n",
    "\n",
    "# Visualize undistortion\n",
    "f, (ax1, ax2) = plt.subplots(1, 2, figsize=(20,10))\n",
    "ax1.imshow(img)\n",
    "ax1.set_title('Original Image', fontsize=30)\n",
    "ax2.imshow(dst)\n",
    "ax2.set_title('Undistorted Image', fontsize=30)"
   ]
  },
  {
   "cell_type": "markdown",
   "metadata": {},
   "source": [
    "## Apply a distortion correction to raw images."
   ]
  },
  {
   "cell_type": "code",
   "execution_count": null,
   "metadata": {
    "collapsed": false
   },
   "outputs": [],
   "source": [
    "# Make a list of calibration images\n",
    "images = glob.glob('test_images/*.jpg')\n",
    "\n",
    "f, axes = plt.subplots(len(images), 2, figsize=(16, 6 * len(images)))\n",
    "\n",
    "undistorted = []\n",
    "\n",
    "# Step through the list and search for chessboard corners\n",
    "for idx, fname in enumerate(images):\n",
    "    img = cv2.imread(fname)\n",
    "    img = cv2.cvtColor(img, cv2.COLOR_BGR2RGB)\n",
    "    dst = cv2.undistort(img, mtx, dist, None, mtx)\n",
    "    axes[idx][0].imshow(img)\n",
    "    axes[idx][0].set_title('Original Image', fontsize=20)\n",
    "    axes[idx][1].imshow(dst)\n",
    "    axes[idx][1].set_title('Undistorted Image', fontsize=20)\n",
    "    undistorted.append(dst)"
   ]
  },
  {
   "cell_type": "markdown",
   "metadata": {},
   "source": [
    "## Use color transforms, gradients, etc., to create a thresholded binary image."
   ]
  },
  {
   "cell_type": "code",
   "execution_count": null,
   "metadata": {
    "collapsed": false
   },
   "outputs": [],
   "source": [
    "def get_sobel_x(gray, ksize):\n",
    "    return cv2.Sobel(gray, cv2.CV_64F, 1, 0, ksize=ksize)\n",
    "\n",
    "def get_sobel_y(gray, ksize):\n",
    "    return cv2.Sobel(gray, cv2.CV_64F, 0, 1, ksize=ksize)\n",
    "\n",
    "def get_scaled_sobel_x_y(gray, ksize):\n",
    "    sobelx = get_sobel_x(gray, ksize)\n",
    "    sobely = get_sobel_y(gray, ksize)\n",
    "    import math\n",
    "    magnitude = np.sqrt((sobelx ** 2) + (sobely ** 2))\n",
    "    scaled_mag = np.uint8(255 * magnitude / np.max(magnitude))\n",
    "    return scaled_mag\n",
    "\n",
    "def abs_sobel_thresh(gray, orient='x', sobel_kernel=3, thresh=(0, 255)):\n",
    "    # Calculate directional gradient\n",
    "    if orient == 'x':\n",
    "        sobel = get_sobel_x(gray, sobel_kernel)\n",
    "    elif orient == 'y':\n",
    "        sobel = get_sobel_y(gray, sobel_kernel)\n",
    "    # Take the absolute value of the derivative or gradient\n",
    "    abs_sobel = np.absolute(sobel)\n",
    "    # Scale to 8-bit (0 - 255) then convert to type = np.uint8\n",
    "    scaled_sobel = np.uint8(255*abs_sobel/np.max(abs_sobel))\n",
    "    # Create a mask of 1's where the scaled gradient magnitude \n",
    "            # is > thresh_min and < thresh_max\n",
    "    sbinary = np.zeros_like(scaled_sobel)\n",
    "    sbinary[(scaled_sobel >= thresh[0]) & (scaled_sobel <= thresh[1])] = 1\n",
    "    return sbinary\n",
    "\n",
    "def mag_thresh(gray, sobel_kernel=3, mag_thresh=(0, 255)):\n",
    "    # Calculate gradient magnitude\n",
    "    # Apply threshold\n",
    "    scaled_mag = get_scaled_sobel_x_y(gray, sobel_kernel)\n",
    "    # Create a binary mask where mag thresholds are met\n",
    "    binary = np.zeros_like(scaled_mag)\n",
    "    binary[(scaled_mag >= mag_thresh[0]) & (scaled_mag <= mag_thresh[1])] = 1\n",
    "    return binary\n",
    "\n",
    "# Define a function that applies Sobel x and y, \n",
    "# then computes the direction of the gradient\n",
    "# and applies a threshold.\n",
    "def dir_threshold(gray, sobel_kernel=3, thresh=(0, np.pi/2)):\n",
    "    # Take the gradient in x and y separately\n",
    "    sobelx = get_sobel_x(gray, ksize=sobel_kernel)\n",
    "    sobely = get_sobel_y(gray, ksize=sobel_kernel)\n",
    "    # Take the absolute value of the x and y gradients\n",
    "    abs_sobelx = np.abs(sobelx)\n",
    "    abs_sobely = np.abs(sobely)\n",
    "    # Calculate the direction of the gradient \n",
    "    direction = np.arctan2(abs_sobely, abs_sobelx)\n",
    "    # Create a binary mask where direction thresholds are met\n",
    "    sbinary = np.zeros_like(direction)\n",
    "    sbinary[(direction >= thresh[0]) & (direction <= thresh[1])] = 1\n",
    "    return sbinary\n",
    "\n",
    "# Define a function that thresholds the S-channel of HLS\n",
    "# Use exclusive lower bound (>) and inclusive upper (<=)\n",
    "def hls_select(img, h_thresh=(0, 180), l_thresh=(0, 255), s_thresh=(0, 255)):\n",
    "    # Convert to HLS color space\n",
    "    hls = cv2.cvtColor(img, cv2.COLOR_RGB2HLS)\n",
    "    H = hls[:,:,0]\n",
    "    L = hls[:,:,1]\n",
    "    S = hls[:,:,2]\n",
    "    # Apply thresholds to the channels\n",
    "    h_binary = np.zeros_like(H)\n",
    "    h_binary[(H > h_thresh[0]) & (H <= h_thresh[1])] = 1\n",
    "    l_binary = np.zeros_like(L)\n",
    "    l_binary[(L > l_thresh[0]) & (L <= l_thresh[1])] = 1\n",
    "    s_binary = np.zeros_like(S)\n",
    "    s_binary[(S > s_thresh[0]) & (S <= s_thresh[1])] = 1\n",
    "    return (h_binary, l_binary, s_binary)\n",
    "\n",
    "rows_per_img = 3\n",
    "\n",
    "f, axes = plt.subplots(len(images) * rows_per_img, 4, figsize=(16, 8 * len(images)))\n",
    "\n",
    "def show_image(axis, img, gray, title):\n",
    "    if gray:\n",
    "        axis.imshow(img, cmap='gray')\n",
    "    else:\n",
    "        axis.imshow(img)\n",
    "    axis.set_title(title, fontsize=20)\n",
    "\n",
    "for idx, img in enumerate(undistorted):\n",
    "    gray = cv2.cvtColor(img, cv2.COLOR_RGB2GRAY)\n",
    "    \n",
    "    # Choose a Sobel kernel size\n",
    "    ksize = 3 # Choose a larger odd number to smooth gradient measurements\n",
    "    \n",
    "    # Apply each of the thresholding functions\n",
    "    gradx = abs_sobel_thresh(gray, orient='x', sobel_kernel=ksize, thresh=(60, 140))\n",
    "    grady = abs_sobel_thresh(gray, orient='y', sobel_kernel=ksize, thresh=(60, 140))\n",
    "    mag_binary = mag_thresh(gray, sobel_kernel=ksize, mag_thresh=(80, 120))\n",
    "    dir_binary = dir_threshold(gray, sobel_kernel=ksize, thresh=(0.9, 1.1))\n",
    "    \n",
    "    (h_bin, l_bin, s_bin) = hls_select(img, h_thresh=(18, 25), s_thresh=(80, 255), l_thresh=(200, 255))\n",
    "    \n",
    "    h_s = np.zeros_like(h_bin)\n",
    "    h_s[(h_bin == 1) & (s_bin == 1)] = 1\n",
    "    l_s = np.zeros_like(l_bin)\n",
    "    l_s[(l_bin == 1) & (s_bin == 1)] = 1\n",
    "    mag_dir = np.zeros_like(mag_binary)\n",
    "    mag_dir[(mag_binary == 1) & (dir_binary == 1)] = 1\n",
    "    gradxy = np.zeros_like(gradx)\n",
    "    gradxy[(gradx == 1) & (grady == 1)] = 1\n",
    "    \n",
    "    hs_or_ls = np.zeros_like(h_s)\n",
    "    hs_or_ls[(h_s == 1) | (l_s == 1)] = 1\n",
    "    all_or = np.zeros_like(h_s)\n",
    "    all_or[(h_s == 1) | (l_s == 1) | (mag_dir == 1) | (gradxy == 1)] = 1\n",
    "    \n",
    "    top = idx * rows_per_img\n",
    "    mid = idx * rows_per_img + 1\n",
    "    bottom = idx * rows_per_img + 2\n",
    "    \n",
    "    show_image(axes[top][0], img, False, 'Undistorted')\n",
    "    show_image(axes[top][1], h_bin, True, 'H')\n",
    "    show_image(axes[top][2], l_bin, True, 'L')\n",
    "    show_image(axes[top][3], s_bin, True, 'S')\n",
    "    show_image(axes[mid][0], h_s, True, 'H & S')\n",
    "    show_image(axes[mid][1], l_s, True, 'L & S')\n",
    "    show_image(axes[mid][2], mag_dir, True, 'Magnitude & Direction')\n",
    "    show_image(axes[mid][3], gradxy, True, 'Gradx & Grady')    \n",
    "    show_image(axes[bottom][0], all_or, True, 'All Or')\n",
    "    show_image(axes[bottom][1], hs_or_ls, True, '(H & S) | (L & S)')\n",
    "    show_image(axes[bottom][2], grady, True, 'Grady')\n",
    "    show_image(axes[bottom][3], grady2, True, 'Grady2')"
   ]
  },
  {
   "cell_type": "markdown",
   "metadata": {},
   "source": [
    "## TODO: Apply a perspective transform to rectify binary image (\"birds-eye view\")."
   ]
  },
  {
   "cell_type": "markdown",
   "metadata": {},
   "source": [
    "## TODO: Detect lane pixels and fit to find the lane boundary."
   ]
  },
  {
   "cell_type": "markdown",
   "metadata": {},
   "source": [
    "## TODO: Determine the curvature of the lane and vehicle position with respect to center."
   ]
  },
  {
   "cell_type": "markdown",
   "metadata": {},
   "source": [
    "## TODO: Warp the detected lane boundaries back onto the original image."
   ]
  },
  {
   "cell_type": "markdown",
   "metadata": {},
   "source": [
    "## TODO: Output visual display of the lane boundaries and numerical estimation of lane curvature and vehicle position."
   ]
  }
 ],
 "metadata": {
  "kernelspec": {
   "display_name": "Python 3",
   "language": "python",
   "name": "python3"
  },
  "widgets": {
   "state": {},
   "version": "1.1.2"
  }
 },
 "nbformat": 4,
 "nbformat_minor": 2
}
